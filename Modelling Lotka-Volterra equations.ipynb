{
 "cells": [
  {
   "attachments": {},
   "cell_type": "markdown",
   "metadata": {
    "collapsed": false
   },
   "source": [
    "# Model drapieżnik-ofiara Lotki-Volterry"
   ]
  },
  {
   "attachments": {},
   "cell_type": "markdown",
   "metadata": {},
   "source": [
    "Model drapieżnik-ofiara Lotki-Volterry jest jednym z kluczowych matematycznych modeli opisujących interakcje w ekosystemach. Model ten pozwala nam lepiej zrozumieć zależności między populacjami drapieżników a ich ofiarami oraz jak te zależności wpływają na dynamikę tych populacji."
   ]
  },
  {
   "attachments": {},
   "cell_type": "markdown",
   "metadata": {},
   "source": [
    "<img src=\"images/historic_example.jpg\" alt=\"alt-text\" width=\"600px\">"
   ]
  },
  {
   "attachments": {},
   "cell_type": "markdown",
   "metadata": {},
   "source": [
    "##### Liczba futer zajęcy śnieżnych (kolor żółty) i rysi kanadyjskich (czarna linia) sprzedanych Hudson's Bay Company. \n",
    "CC BY-SA 4.0 https://en.wikipedia.org/wiki/Lotka%E2%80%93Volterra_equations#/media/File:Milliers_fourrures_vendues_en_environ_90_ans_odum_1953_en.jpg "
   ]
  },
  {
   "attachments": {},
   "cell_type": "markdown",
   "metadata": {
    "collapsed": false
   },
   "source": [
    "## Równania Lotki-Volterry"
   ]
  },
  {
   "attachments": {},
   "cell_type": "markdown",
   "metadata": {
    "collapsed": false
   },
   "source": [
    "Równania Lotki-Volterry są zestawem matematycznych równań różniczkowych opisujących dynamikę oddziaływań między dwoma gatunkami w ekosystemie: drapieżnikiem i ofiarą. Nazwa pochodzi od nazwisk dwóch naukowców, Alfreda J. Lotki i Vito E. Volterry, którzy niezależnie od siebie opracowali te równania."
   ]
  },
  {
   "attachments": {},
   "cell_type": "markdown",
   "metadata": {
    "collapsed": false
   },
   "source": [
    "### Równania opisujące podstawowy model Lotki-Volterry"
   ]
  },
  {
   "attachments": {},
   "cell_type": "markdown",
   "metadata": {},
   "source": [
    "$\\left\\{\\begin{array}{l}\\dot{V}=\\beta V-a V P \\\\ \\dot{P}=-\\varepsilon P+a b V P\\end{array}\\right.$"
   ]
  },
  {
   "attachments": {},
   "cell_type": "markdown",
   "metadata": {
    "collapsed": false
   },
   "source": [
    "### Zdefiniowanie parametrów\n",
    "- $V$ - Przyrost populacji ofiar\n",
    "- $P$ - Przyrost populacji drapieżników\n",
    "- $\\beta$ - Współczynnik reprodukcji ofiar\n",
    "- $\\varepsilon$ - Współczynnik śmiertelności drapieżników\n",
    "- $a$ - Skuteczność polowań\n",
    "- $b$ - Proporcja biomasy schwytanej ofiary wykorzystywanej przez drapieżniki w procesie reprodukcji"
   ]
  },
  {
   "attachments": {},
   "cell_type": "markdown",
   "metadata": {
    "collapsed": false
   },
   "source": [
    "### Równania opisujące model Lotki-Volterry z ograniczonymi zasobami środowiska ofiar"
   ]
  },
  {
   "attachments": {},
   "cell_type": "markdown",
   "metadata": {
    "collapsed": false
   },
   "source": [
    "Główną wadą podstawowego modelu Lotki-Volterry jest brak ograniczeń dla wzrostu liczebności ofiar w przypadku zerowej populacji drapieżników. Aby uwzględnić tę kwestię w bardziej realistycznym podejściu, wprowadza się pojemność środowiska (oznaczaną jako $K$) – czyli maksymalną liczbę osobników, jaką dana populacja może osiągnąć. Przykładowe równania uwzględniające ten czynnik prezentują się następująco:"
   ]
  },
  {
   "attachments": {},
   "cell_type": "markdown",
   "metadata": {
    "collapsed": false
   },
   "source": [
    "$\\left\\{\\begin{array}{l}\\dot{V}=\\beta V\\left(1-\\frac{V}{K}\\right)-a V P \\\\ \\dot{P}=-\\varepsilon P+a b V P\\end{array}\\right.$"
   ]
  },
  {
   "attachments": {},
   "cell_type": "markdown",
   "metadata": {
    "collapsed": false
   },
   "source": [
    "### Założenia modelu Lotki-Volterry\n",
    "1. W badanym środowisku wystęują tylko dwa gatunki, osobniki jednego gatunku (ofiary) stanowią pożywienie osobników drugiego gatunku (drapieżników). Liczebności obydwu gatunków wynoszą odpowiednio: $V(t)$ dla ofiar i $P(t)$ dla drapieżników.\n",
    "2. W sytuacji, gdy nie ma drapieżników, $P(t)=0$, populacja ofiar rozwija się bez przeszkód, zgodnie z modelem wykładniczego wzrostu Malthusa $d V / d t=$ $\\beta V(t)$, gdzie $\\beta>0$ jest współczynnikiem rozrodczości ofiar.\n",
    "3. Gdy natomiast brakuje ofiar, $V(t)=0$, wówczas liczebność populacji drapieżników maleje, również zgodnie z prawem Malthusa: $d P / d t=-\\varepsilon P$, gdzie $\\varepsilon>0$ jest współczynnikiem śmiertelności drapieżników.\n",
    "4. Gdy w środowisku są obecni przedstawiciele obydwu gatunków, wówczas część ofiar ginie upolowana przez drapieżniki, których liczba rośnie ponieważ dzięki upolowanym ofiarom drapieżniki zyskują energię, która jest niezbędna do przeżycia i rozmnażania.\n",
    "5. Zakładając, że ofiary rozmnażają się niezależnie od drapieżników, a polowanie jest możliwe tylko przy bezpośrednim spotkaniu ofiary z drapieżnikiem, dynamikę populacji ofiar można opisać równaniem: $d V / d t=\\beta V-a V P$, gdzie $a>0$ jest wspólczynnikiem, który reprezentuje skuteczność polowań."
   ]
  },
  {
   "attachments": {},
   "cell_type": "markdown",
   "metadata": {
    "collapsed": false
   },
   "source": [
    "## Deterministyczny model Lotki-Volterry"
   ]
  },
  {
   "attachments": {},
   "cell_type": "markdown",
   "metadata": {},
   "source": [
    "Poniżej przedstawiona jest symulacja zachowania dwóch populacji drapieżnik-ofiara z nieograniczoną pojemnością środowiska. Model ten oparty jest na założeniu, że populacje rozwijają się deterministycznie, ich dynamika jest opisana przez dokładnie określone równania różniczkowe, bez uwzględnienia szumu stochastycznego."
   ]
  },
  {
   "cell_type": "code",
   "execution_count": 9,
   "metadata": {},
   "outputs": [],
   "source": [
    "import matplotlib\n",
    "import numpy as np\n",
    "from numpy import inf\n",
    "\n",
    "matplotlib.use('tkagg')\n",
    "import matplotlib.pyplot as plt\n",
    "from scipy.integrate import odeint\n",
    "\n",
    "\n",
    "def sim(variables, t, params):\n",
    "    V = variables[0] \n",
    "    P = variables[1] \n",
    "\n",
    "\n",
    "    alpha = params[0]\n",
    "    beta = params[1]\n",
    "    epsilon = params[2]\n",
    "    b = params[3]\n",
    "\n",
    "    dVdt = (beta - alpha * P) * V\n",
    "    dPdt = (alpha * b * V - epsilon) * P \n",
    "\n",
    "    return [dVdt, dPdt]\n",
    "\n",
    "\n",
    "def plot_population_vs_time(t, y):\n",
    "    fig, (ax1, ax2, ax3) = plt.subplots(3, figsize=(8, 10))\n",
    "\n",
    "    line1, = ax1.plot(t, y[:, 0], color=\"b\")\n",
    "    line2, = ax2.plot(t, y[:, 1], color=\"r\")\n",
    "    ax1.set_ylabel(\"Prey\")\n",
    "    ax1.set_xlabel(\"Time\")\n",
    "    ax2.set_ylabel(\"Predators\")\n",
    "    ax2.set_xlabel(\"Time\")\n",
    "\n",
    "    # Plot combined graph\n",
    "    ax3.plot(t, y[:, 0], color=\"b\", label=\"Prey\")\n",
    "    ax3.plot(t, y[:, 1], color=\"r\", label=\"Predators\")\n",
    "    ax3.set_ylabel(\"Population\")\n",
    "    ax3.set_xlabel(\"Time\")\n",
    "    ax3.legend()\n",
    "\n",
    "    ax1.set_title(\"Prey population over time\")\n",
    "    ax2.set_title(\"Predator population over time\")\n",
    "    ax3.set_title(\"Prey and predator population over time\")\n",
    "    plt.tight_layout()\n",
    "\n",
    "\n",
    "\n",
    "def plot_phase_graph(y):\n",
    "    fig_phase = plt.figure()\n",
    "    ax_phase = fig_phase.add_subplot(111)\n",
    "    line3, = ax_phase.plot(y[:, 0], y[:, 1], color=\"g\")\n",
    "    ax_phase.set_xlabel(\"Prey\")\n",
    "    ax_phase.set_ylabel(\"Predators\")\n",
    "    ax_phase.set_title(\"Phase portrait of prey and predator populations\")\n",
    "\n",
    "    arrow_interval = 1000\n",
    "\n",
    "    for i in range(0, len(y) - 1, arrow_interval):\n",
    "        ax_phase.annotate(\n",
    "            '',\n",
    "            xy=(y[i+1, 0], y[i+1, 1]),\n",
    "            xytext=(y[i, 0], y[i, 1]),\n",
    "            arrowprops=dict(\n",
    "                arrowstyle='simple',\n",
    "                lw=1.5,\n",
    "                alpha=0.5,\n",
    "                color='black'\n",
    "            )\n",
    "        )\n",
    "\n",
    "\n",
    "\n",
    "if __name__ == '__main__':\n",
    "    t = np.linspace(0, 50, num=1000)\n",
    "\n",
    "    alpha = 0.4 \n",
    "    beta = 1.1  \n",
    "    epsilon = 0.4 \n",
    "    b = 0.25  \n",
    "\n",
    "    y0 = [10, 2]  # [Prey, Predators] population\n",
    "\n",
    "    params = [alpha, beta, epsilon, b]\n",
    "\n",
    "    y = odeint(sim, y0, t, args=(params,))\n",
    "\n",
    "    plot_population_vs_time(t, y)\n",
    "    plot_phase_graph(y)\n",
    "    plt.show()\n"
   ]
  },
  {
   "attachments": {},
   "cell_type": "markdown",
   "metadata": {},
   "source": [
    "### Obserwacje\n",
    "- W początkowym stadium, gdy populacje są małe, populacja ofiar zaczyna rosnąć, ponieważ mało drapieżników jest obecnych do polowania na nie. Jednak w miarę wzrostu populacji ofiar, liczba dostępnych pożywienia dla drapieżników również się zwiększa.\n",
    "\n",
    "- W rezultacie populacja drapieżników zaczyna wzrastać, gdy mają więcej ofiar do zjedzenia. Wzrost populacji drapieżników prowadzi do większej presji na populację ofiar, powodując zmniejszenie ich liczebności.\n",
    "\n",
    "- W miarę spadku liczby ofiar, populacja drapieżników zaczyna doświadczać niedoboru pożywienia. To z kolei prowadzi do spadku populacji drapieżników, ponieważ mają mniej dostępnego pożywienia do przetrwania.\n",
    "\n",
    "- Ten cykl wzajemnego oddziaływania między ofiarami a drapieżnikami prowadzi do oscylacji w ich liczebności. Wzrost i spadek populacji ofiar i drapieżników następują naprzemiennie w regularnych cyklach"
   ]
  },
  {
   "attachments": {},
   "cell_type": "markdown",
   "metadata": {},
   "source": [
    "![alt-text](images/graphs.png)"
   ]
  },
  {
   "attachments": {},
   "cell_type": "markdown",
   "metadata": {},
   "source": [
    "### Przestrzeń fazowa"
   ]
  },
  {
   "attachments": {},
   "cell_type": "markdown",
   "metadata": {},
   "source": [
    "Graf trajektorii fazowej populacji w modelu Lotki-Volterry przedstawia wzajemne zależności i zmiany liczby populacji drapieżników i ofiar w czasie. Na wykresie obserwujemy trajektorie, które przedstawiają jak zmieniają się te populacje wraz z upływem czasu.\n",
    "\n",
    "Poprzez analizę grafu trajektorii fazowej możemy zauważyć różne wzorce i dynamikę populacji. W zależności od parametrów modelu i warunków początkowych, trajektorie mogą być zamknięte, tworzyć oscylacje lub prowadzić do stabilnych stanów równowagi.\n",
    "\n",
    "Wykres przedstawia przestrzeń fazową, gdzie oś X reprezentuje liczbę ofiar, a oś Y liczbę drapieżników. Punkty na wykresie odpowiadają konkretnym stanom populacji w danym momencie czasu. Ruch trajektorii odzwierciedla dynamikę zmian w populacjach w odpowiedzi na wzajemne oddziaływanie.\n",
    "\n",
    "Analiza grafu trajektorii fazowej dostarcza informacji na temat stabilności i zmienności populacji. Możemy zaobserwować, czy populacje osiągają stabilne stany równowagi, czy też występują cykle wzrostu i spadku. Ponadto, możemy zidentyfikować punkty krytyczne, w których populacje mogą znajdować się w ekstremalnych stanach, takich jak wyginięcie jednej z populacji."
   ]
  },
  {
   "attachments": {},
   "cell_type": "markdown",
   "metadata": {},
   "source": [
    "![alt-text](images/phase.png)"
   ]
  },
  {
   "attachments": {},
   "cell_type": "markdown",
   "metadata": {},
   "source": [
    "## Deterministyczny model Lotki-Volterry z uwzględnieniem pojemności środowiska dla ofiar"
   ]
  },
  {
   "attachments": {},
   "cell_type": "markdown",
   "metadata": {},
   "source": [
    "Poniżej przedstawiona jest symulacja zachowania dwóch populacji drapieżnik-ofiara z ograniczoną pojemnością środowiska. Model ten oparty jest na założeniu, że populacje rozwijają się deterministycznie, ich dynamika jest opisana przez dokładnie określone równania różniczkowe, bez uwzględnienia szumu stochastycznego."
   ]
  },
  {
   "cell_type": "code",
   "execution_count": 10,
   "metadata": {},
   "outputs": [],
   "source": [
    "import matplotlib\n",
    "import numpy as np\n",
    "from numpy import inf\n",
    "\n",
    "matplotlib.use('tkagg')\n",
    "import matplotlib.pyplot as plt\n",
    "from scipy.integrate import odeint\n",
    "\n",
    "\n",
    "def sim(variables, t, params):\n",
    "    V = variables[0] \n",
    "    P = variables[1] \n",
    "\n",
    "\n",
    "    alpha = params[0]\n",
    "    beta = params[1]\n",
    "    epsilon = params[2]\n",
    "    b = params[3]\n",
    "    K = params[4]\n",
    "\n",
    "    dVdt = (beta * (1 - V/K) - alpha * P) * V   \n",
    "    dPdt = (alpha * b * V - epsilon) * P  \n",
    "    return [dVdt, dPdt]\n",
    "\n",
    "\n",
    "def plot_population_vs_time(t, y):\n",
    "    fig, (ax1, ax2, ax3) = plt.subplots(3, figsize=(8, 10))\n",
    "\n",
    "    line1, = ax1.plot(t, y[:, 0], color=\"b\")\n",
    "    line2, = ax2.plot(t, y[:, 1], color=\"r\")\n",
    "    ax1.set_ylabel(\"Prey\")\n",
    "    ax1.set_xlabel(\"Time\")\n",
    "    ax2.set_ylabel(\"Predators\")\n",
    "    ax2.set_xlabel(\"Time\")\n",
    "\n",
    "    ax3.plot(t, y[:, 0], color=\"b\", label=\"Prey\")\n",
    "    ax3.plot(t, y[:, 1], color=\"r\", label=\"Predators\")\n",
    "    ax3.set_ylabel(\"Population\")\n",
    "    ax3.set_xlabel(\"Time\")\n",
    "    ax3.legend()\n",
    "\n",
    "    ax1.set_title(\"Prey population over time\")\n",
    "    ax2.set_title(\"Predator population over time\")\n",
    "    ax3.set_title(\"Prey and predator population over time\")\n",
    "    plt.tight_layout()\n",
    "\n",
    "\n",
    "\n",
    "def plot_phase_graph(y):\n",
    "    fig_phase = plt.figure()\n",
    "    ax_phase = fig_phase.add_subplot(111)\n",
    "    line3, = ax_phase.plot(y[:, 0], y[:, 1], color=\"g\")\n",
    "    ax_phase.set_xlabel(\"Prey\")\n",
    "    ax_phase.set_ylabel(\"Predators\")\n",
    "    ax_phase.set_title(\"Phase portrait of prey and predator populations\")\n",
    "\n",
    "    arrow_interval = 1000\n",
    "\n",
    "    for i in range(0, len(y) - 1, arrow_interval):\n",
    "        ax_phase.annotate(\n",
    "            '',\n",
    "            xy=(y[i+1, 0], y[i+1, 1]),\n",
    "            xytext=(y[i, 0], y[i, 1]),\n",
    "            arrowprops=dict(\n",
    "                arrowstyle='simple',\n",
    "                lw=1.5,\n",
    "                alpha=0.5,\n",
    "                color='black'\n",
    "            )\n",
    "        )\n",
    "\n",
    "\n",
    "\n",
    "if __name__ == '__main__':\n",
    "    t = np.linspace(0, 50, num=1000)\n",
    "\n",
    "    alpha = 0.4 \n",
    "    beta = 1.1  \n",
    "    epsilon = 0.4  \n",
    "    b = 0.25 \n",
    "\n",
    "  \n",
    "    K = 30\n",
    "\n",
    "    y0 = [10, 2]\n",
    "\n",
    "    params = [alpha, beta, epsilon, b, K]\n",
    "\n",
    "    y = odeint(sim, y0, t, args=(params,))\n",
    "\n",
    "    plot_population_vs_time(t, y)\n",
    "    plot_phase_graph(y)\n",
    "    plt.show()\n"
   ]
  },
  {
   "attachments": {},
   "cell_type": "markdown",
   "metadata": {},
   "source": [
    "![alt-text](images/graphs_K.png)"
   ]
  },
  {
   "attachments": {},
   "cell_type": "markdown",
   "metadata": {},
   "source": [
    "![alt-text](images/phase_K.png)"
   ]
  },
  {
   "attachments": {},
   "cell_type": "markdown",
   "metadata": {},
   "source": [
    "## Stacjonarne rozwiązania modelu Lotki-Volterry\n",
    "Stacjonarne rozwiązania to takie wartości populacji, w których nie zachodzą zmiany w czasie. Oznacza to, że liczby drapieżników i ofiar utrzymują się na stałym poziomie, nie podlegając dalszym fluktuacjom. \n"
   ]
  },
  {
   "attachments": {},
   "cell_type": "markdown",
   "metadata": {},
   "source": [
    "Stacjonarne rozwiązania modelu Lotki-Volterry mogą być punktami stabilnymi, jeśli populacje po osiągnięciu tych wartości będą wracać do równowagi, jeśli zostaną zakłócone. Mogą jednak również być punktami niestabilnymi, w których nawet niewielkie perturbacje mogą prowadzić do drastycznych zmian w populacjach."
   ]
  },
  {
   "attachments": {},
   "cell_type": "markdown",
   "metadata": {},
   "source": [
    "Stan równowagi populacji występuje, gdy tempo wzrostu jest równe zeru. Aby znaleźć rozwiązania układu należy przyrównać lewe strony równań Lotki-Volterry do zera."
   ]
  },
  {
   "attachments": {},
   "cell_type": "markdown",
   "metadata": {},
   "source": [
    "$\\left(V^*, P^*\\right)=(0,0) \\quad, \\quad\\left(V^*, P^*\\right)=\\left(\\frac{\\varepsilon}{a b}, \\frac{\\beta}{a}\\right)$"
   ]
  },
  {
   "attachments": {},
   "cell_type": "markdown",
   "metadata": {},
   "source": [
    "Wprowadzając te wartości jako warunki początkowe, populacje pozostają stabilne w czasie."
   ]
  },
  {
   "attachments": {},
   "cell_type": "markdown",
   "metadata": {},
   "source": [
    "### Niestabilny punkt siodłowy"
   ]
  },
  {
   "attachments": {},
   "cell_type": "markdown",
   "metadata": {},
   "source": [
    "$\\left(V^*, P^*\\right)=(0,0) \\quad$"
   ]
  },
  {
   "cell_type": "code",
   "execution_count": 11,
   "metadata": {},
   "outputs": [],
   "source": [
    "if __name__ == '__main__':\n",
    "    t = np.linspace(0, 50, num=1000)\n",
    "\n",
    "    alpha = 0.4 \n",
    "    beta = 1.1  \n",
    "    epsilon = 0.4\n",
    "    b = 0.25 \n",
    "    K = 30\n",
    "\n",
    "    y0 = [0,0]\n",
    "\n",
    "    params = [alpha, beta, epsilon, b, K]\n",
    "\n",
    "    y = odeint(sim, y0, t, args=(params,))\n",
    "\n",
    "    plot_population_vs_time(t, y)\n",
    "    plot_phase_graph(y)\n",
    "    plt.show()"
   ]
  },
  {
   "attachments": {},
   "cell_type": "markdown",
   "metadata": {},
   "source": [
    "### Stabilne centrum"
   ]
  },
  {
   "attachments": {},
   "cell_type": "markdown",
   "metadata": {},
   "source": [
    "$\\quad\\left(V^*, P^*\\right)=\\left(\\frac{\\varepsilon}{a b}, \\frac{\\beta}{a}\\right)$"
   ]
  },
  {
   "cell_type": "code",
   "execution_count": 12,
   "metadata": {},
   "outputs": [],
   "source": [
    "if __name__ == '__main__':\n",
    "    t = np.linspace(0, 50, num=1000)\n",
    "\n",
    "    alpha = 0.4 \n",
    "    beta = 1.1  \n",
    "    epsilon = 0.4 \n",
    "    b = 0.25 \n",
    "    K = 30\n",
    "\n",
    "    y0 = [epsilon/(alpha*b), beta/alpha]\n",
    "\n",
    "    params = [alpha, beta, epsilon, b, K]\n",
    "\n",
    "    y = odeint(sim, y0, t, args=(params,))\n",
    "\n",
    "    plot_population_vs_time(t, y)\n",
    "    plot_phase_graph(y)\n",
    "    plt.show()\n"
   ]
  },
  {
   "attachments": {},
   "cell_type": "markdown",
   "metadata": {},
   "source": [
    "<img src=\"images/steady_points_graph.png\" alt=\"alt-text\" width=\"600px\">"
   ]
  },
  {
   "attachments": {},
   "cell_type": "markdown",
   "metadata": {},
   "source": [
    "## Wnioski \n",
    "Omówiliśmy model Lotki-Volterry dla dynamiki populacji typu drapieżnik-ofiara. Stworzyliśmy model ilustrujący oscylacyjną zależność między populacjami za pomocą podstawowego modelu, a następnie uwzględniliśmy także pojemność środowiska dla ofiar. Uzyskane wyniki są zgodne z oscylacyjną zależnością występującą w naturze, co ilustrują dowody empiryczne zamieszczone na początku notebooka. Na końcu zaprezentowaliśmy stacjonarne rozwiązania modelu Lotki-Volterry. Warto wspomnieć, że w wyżej zaprezentowanych modelach nie uwzględniony został w żaden sposób szum stochastyczny, dzięki któremu lepiej można ocenić zależności obserwowane w naturze."
   ]
  },
  {
   "attachments": {},
   "cell_type": "markdown",
   "metadata": {
    "collapsed": false
   },
   "source": [
    "## Źródła\n",
    "- A. Fronczak, P. Fronczak \"Dynamika populacyjna\"\n",
    "-  Arkady Pikovsky, Synchronization: A Universal Concept in Nonlinear Sciences, 2001\n",
    "- Weisstein, Eric W. \"Lotka-Volterra Equations.\" From MathWorld--A Wolfram Web Resource. https://mathworld.wolfram.com/Lotka-VolterraEquations.html \n",
    "- Lotka–Volterra equations, https://en.wikipedia.org/w/index.php?title=Lotka%E2%80%93Volterra_equations&oldid=1156327731 "
   ]
  },
  {
   "attachments": {},
   "cell_type": "markdown",
   "metadata": {},
   "source": []
  }
 ],
 "metadata": {
  "kernelspec": {
   "display_name": "Python 3",
   "language": "python",
   "name": "python3"
  },
  "language_info": {
   "codemirror_mode": {
    "name": "ipython",
    "version": 3
   },
   "file_extension": ".py",
   "mimetype": "text/x-python",
   "name": "python",
   "nbconvert_exporter": "python",
   "pygments_lexer": "ipython3",
   "version": "3.11.2"
  }
 },
 "nbformat": 4,
 "nbformat_minor": 0
}
